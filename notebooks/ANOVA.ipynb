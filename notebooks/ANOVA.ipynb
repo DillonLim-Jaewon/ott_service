{
 "cells": [
  {
   "cell_type": "markdown",
   "metadata": {},
   "source": [
    "### **환경설정**"
   ]
  },
  {
   "cell_type": "code",
   "execution_count": 1,
   "metadata": {},
   "outputs": [],
   "source": [
    "import numpy as np\n",
    "import pandas as pd\n",
    "from scipy import stats\n",
    "import scikit_posthocs as sp\n",
    "from pingouin import welch_anova\n",
    "from statsmodels.stats.multicomp import pairwise_tukeyhsd"
   ]
  },
  {
   "cell_type": "markdown",
   "metadata": {},
   "source": [
    "# **진행 과정**"
   ]
  },
  {
   "cell_type": "markdown",
   "metadata": {},
   "source": [
    "* 첫 번째 분석에서 결과 해석의 오류가 있어 총 두 번에 걸쳐 분석을 진행하였다."
   ]
  },
  {
   "cell_type": "markdown",
   "metadata": {},
   "source": [
    "## **첫번째 시도**"
   ]
  },
  {
   "cell_type": "markdown",
   "metadata": {},
   "source": [
    "### **데이터 불러오기 및 EDA**"
   ]
  },
  {
   "cell_type": "code",
   "execution_count": null,
   "metadata": {},
   "outputs": [],
   "source": [
    "# 데이터 불러오기\n",
    "\n",
    "complete_episode_day_interval = pd.read_csv('./src/user_segment_complete_episode_interval.csv')"
   ]
  },
  {
   "cell_type": "code",
   "execution_count": 3,
   "metadata": {},
   "outputs": [
    {
     "name": "stdout",
     "output_type": "stream",
     "text": [
      "<class 'pandas.core.frame.DataFrame'>\n",
      "RangeIndex: 10177 entries, 0 to 10176\n",
      "Data columns (total 3 columns):\n",
      " #   Column                          Non-Null Count  Dtype  \n",
      "---  ------                          --------------  -----  \n",
      " 0   user_id                         10177 non-null  object \n",
      " 1   segmentation                    10177 non-null  object \n",
      " 2   avg_complete_episode_intervals  10177 non-null  float64\n",
      "dtypes: float64(1), object(2)\n",
      "memory usage: 238.7+ KB\n"
     ]
    }
   ],
   "source": [
    "# 데이터 확인\n",
    "\n",
    "complete_episode_day_interval.info()"
   ]
  },
  {
   "cell_type": "markdown",
   "metadata": {},
   "source": [
    "* 데이터프레임에 총 10,177개 행이 잘 들어있고, 결측치가 존재하지 않는다."
   ]
  },
  {
   "cell_type": "code",
   "execution_count": 4,
   "metadata": {},
   "outputs": [],
   "source": [
    "# 사용자 세그먼트별로 각 사용자의 평균 complete.episode day interval들을 Series로 저장\n",
    "\n",
    "complete_episode_day_interval_core = complete_episode_day_interval.loc[complete_episode_day_interval['segmentation']=='핵심', 'avg_complete_episode_intervals']\n",
    "complete_episode_day_interval_temp = complete_episode_day_interval.loc[complete_episode_day_interval['segmentation']=='일시적', 'avg_complete_episode_intervals']\n",
    "complete_episode_day_interval_cold = complete_episode_day_interval.loc[complete_episode_day_interval['segmentation']=='냉담', 'avg_complete_episode_intervals']"
   ]
  },
  {
   "cell_type": "code",
   "execution_count": 5,
   "metadata": {},
   "outputs": [
    {
     "name": "stdout",
     "output_type": "stream",
     "text": [
      "[사용자 세그먼트별 평균 complete.episode day interval]\n",
      "\n",
      "핵심 사용자: 4.1일\n",
      "일시적 사용자: 7.82일\n",
      "냉담 사용자: 17.35일\n"
     ]
    }
   ],
   "source": [
    "# 사용자 세그먼트별 평균 complete.episode day interval\n",
    "\n",
    "print(\"[사용자 세그먼트별 평균 complete.episode day interval]\\n\")\n",
    "print(f\"핵심 사용자: {round(np.mean(complete_episode_day_interval_core), 2)}일\")\n",
    "print(f\"일시적 사용자: {round(np.mean(complete_episode_day_interval_temp), 2)}일\")\n",
    "print(f\"냉담 사용자: {round(np.mean(complete_episode_day_interval_cold), 2)}일\")"
   ]
  },
  {
   "cell_type": "markdown",
   "metadata": {},
   "source": [
    "* 우리는 사용자 세그먼트별 평균 `complete.episode` day interval의 차이가 유의미하게 있는지를 알아보기 위해 ANOVA를 진행하려 한다."
   ]
  },
  {
   "cell_type": "code",
   "execution_count": 6,
   "metadata": {},
   "outputs": [
    {
     "name": "stdout",
     "output_type": "stream",
     "text": [
      "[사용자 세그먼트별 사용자 수]\n",
      "\n",
      "핵심 사용자: 1200명\n",
      "일시적 사용자: 5602명\n",
      "냉담 사용자: 3375명\n"
     ]
    }
   ],
   "source": [
    "# 사용자 세그먼트별 사용자 수\n",
    "\n",
    "print(\"[사용자 세그먼트별 사용자 수]\\n\")\n",
    "print(f\"핵심 사용자: {complete_episode_day_interval_core.size}명\")\n",
    "print(f\"일시적 사용자: {complete_episode_day_interval_temp.size}명\")\n",
    "print(f\"냉담 사용자: {complete_episode_day_interval_cold.size}명\")"
   ]
  },
  {
   "cell_type": "markdown",
   "metadata": {},
   "source": [
    "### **ANOVA 진행 전 데이터 사전 검정**"
   ]
  },
  {
   "cell_type": "markdown",
   "metadata": {},
   "source": [
    "* ANOVA를 진행하기 전 데이터에 대한 사전 검정이 필요하다.\n",
    "* 첫째로 각 세그먼트의 데이터가 정규성을 만족하고, 둘째로 세 세그먼트의 데이터가 등분산성을 만족해야 ANOVA를 진행할 수 있다."
   ]
  },
  {
   "cell_type": "markdown",
   "metadata": {},
   "source": [
    "#### **1. 정규성 검정**"
   ]
  },
  {
   "cell_type": "markdown",
   "metadata": {},
   "source": [
    "* 사용자 세그먼트별 사용자 수를 확인하면 핵심 사용자와 냉담 사용자는 5000명 미만이고, 일시적 사용자는 5000명 이상인 것을 확인할 수 있다.\n",
    "* 따라서 핵심 사용자와 냉담 사용자는 Shapiro-Wilk test로, 일시적 사용자는 Anderson-Darling test로 정규성 검정을 진행한다."
   ]
  },
  {
   "cell_type": "code",
   "execution_count": 7,
   "metadata": {},
   "outputs": [
    {
     "name": "stdout",
     "output_type": "stream",
     "text": [
      "ShapiroResult(statistic=np.float64(0.7803049517332192), pvalue=np.float64(2.397530332328133e-37))\n"
     ]
    }
   ],
   "source": [
    "# 핵심 사용자 세그먼트 정규성 검정\n",
    "\n",
    "print(stats.shapiro(complete_episode_day_interval_core))"
   ]
  },
  {
   "cell_type": "markdown",
   "metadata": {},
   "source": [
    "* p-value가 2.397530332328133e-37로 매우 작으므로, 핵심 사용자 세그먼트의 데이터는 정규성을 만족하지 못한다고 할 수 있다."
   ]
  },
  {
   "cell_type": "code",
   "execution_count": 8,
   "metadata": {},
   "outputs": [
    {
     "name": "stdout",
     "output_type": "stream",
     "text": [
      "AndersonResult(statistic=np.float64(520.4958730339786), critical_values=array([0.576, 0.656, 0.786, 0.917, 1.091]), significance_level=array([15. , 10. ,  5. ,  2.5,  1. ]), fit_result=  params: FitParams(loc=np.float64(7.815574260149581), scale=np.float64(9.405563557876654))\n",
      " success: True\n",
      " message: '`anderson` successfully fit the distribution to the data.')\n"
     ]
    }
   ],
   "source": [
    "# 일시적 사용자 세그먼트 정규성 검정\n",
    "\n",
    "print(stats.anderson(complete_episode_day_interval_temp, dist='norm'))"
   ]
  },
  {
   "cell_type": "markdown",
   "metadata": {},
   "source": [
    "* 검정통계량 값은 520.4958730339786로, 유의수준이 1%일 때의 임계값인 1.091보다도 매우 크다.\n",
    "* 따라서 일시적 사용자 세그먼트의 데이터가 정규분포에서 추출되었다는 귀무가설은 기각된다.\n",
    "* 즉 일시적 사용자 세그먼트의 데이터는 정규성을 만족하지 못한다고 할 수 있다."
   ]
  },
  {
   "cell_type": "code",
   "execution_count": 9,
   "metadata": {},
   "outputs": [
    {
     "name": "stdout",
     "output_type": "stream",
     "text": [
      "ShapiroResult(statistic=np.float64(0.41372427036381765), pvalue=np.float64(3.5025161259193495e-74))\n"
     ]
    }
   ],
   "source": [
    "# 냉담 사용자 세그먼트 정규성 검정\n",
    "\n",
    "print(stats.shapiro(complete_episode_day_interval_cold))"
   ]
  },
  {
   "cell_type": "markdown",
   "metadata": {},
   "source": [
    "* p-value가 3.5025161259193495e-74로 매우 작으므로, 냉담 사용자 세그먼트의 데이터는 정규성을 만족하지 못한다고 할 수 있다."
   ]
  },
  {
   "cell_type": "markdown",
   "metadata": {},
   "source": [
    "* test 결과, 사용자 세그먼트별로 각 사용자의 평균 `complete.episode` day interval들은 **정규성을 만족하지 못한다**.\n",
    "* 하지만 위에서 사용한 test는 귀무가설이 채택되기 상당히 까다로운 test이다.\n",
    "* 이로 인해 **실무에서는 왜도의 절대값이 2보다 작고, 첨도가 7보다 작으면 정규성을 만족한다**고 본다. (표본 수가 300 이상일 경우)  \n",
    "참고: [Statistical notes for clinical researchers: assessing normal distribution (2) using skewness and kurtosis](https://pmc.ncbi.nlm.nih.gov/articles/PMC3591587/)"
   ]
  },
  {
   "cell_type": "markdown",
   "metadata": {},
   "source": [
    "##### **Practical Approach: 왜도와 첨도 이용**"
   ]
  },
  {
   "cell_type": "code",
   "execution_count": 10,
   "metadata": {},
   "outputs": [
    {
     "name": "stdout",
     "output_type": "stream",
     "text": [
      "[사용자 세그먼트별 데이터의 왜도의 절대값]\n",
      "\n",
      "핵심 사용자: 2.44\n",
      "일시적 사용자: 4.11\n",
      "냉담 사용자: 6.32\n"
     ]
    }
   ],
   "source": [
    "# 사용자 세그먼트별 데이터의 왜도의 절대값 계산\n",
    "\n",
    "print(\"[사용자 세그먼트별 데이터의 왜도의 절대값]\\n\")\n",
    "print(f\"핵심 사용자: {round(abs(stats.skew(complete_episode_day_interval_core, bias=False)), 2)}\")\n",
    "print(f\"일시적 사용자: {round(abs(stats.skew(complete_episode_day_interval_temp, bias=False)), 2)}\")\n",
    "print(f\"냉담 사용자: {round(abs(stats.skew(complete_episode_day_interval_cold, bias=False)), 2)}\")"
   ]
  },
  {
   "cell_type": "markdown",
   "metadata": {},
   "source": [
    "* 왜도의 절대값이 모두 2보다 크다."
   ]
  },
  {
   "cell_type": "code",
   "execution_count": 11,
   "metadata": {},
   "outputs": [
    {
     "name": "stdout",
     "output_type": "stream",
     "text": [
      "[사용자 세그먼트별 데이터의 첨도]\n",
      "\n",
      "핵심 사용자: 9.31\n",
      "일시적 사용자: 29.69\n",
      "냉담 사용자: 58.88\n"
     ]
    }
   ],
   "source": [
    "# (왜도의 절대값이 모두 2보다 크면 무용지물이지만) 사용자 세그먼트별 데이터의 첨도 계산\n",
    "\n",
    "print(\"[사용자 세그먼트별 데이터의 첨도]\\n\")\n",
    "print(f\"핵심 사용자: {round(stats.kurtosis(complete_episode_day_interval_core, fisher=True), 2)}\")\n",
    "print(f\"일시적 사용자: {round(stats.kurtosis(complete_episode_day_interval_temp, fisher=True), 2)}\")\n",
    "print(f\"냉담 사용자: {round(stats.kurtosis(complete_episode_day_interval_cold, fisher=True), 2)}\")"
   ]
  },
  {
   "cell_type": "markdown",
   "metadata": {},
   "source": [
    "* 첨도가 모두 7보다 크다."
   ]
  },
  {
   "cell_type": "markdown",
   "metadata": {},
   "source": [
    "* 즉 왜도와 첨도를 이용해도 사용자 세그먼트별 데이터들은 정규성을 만족하지 못한다.\n",
    "* 따라서 ANOVA를 진행할 수 없으므로 Kruskal-Wallis H Test를 진행한다."
   ]
  },
  {
   "cell_type": "markdown",
   "metadata": {},
   "source": [
    "### **Kruskal-Wallis H Test**"
   ]
  },
  {
   "cell_type": "markdown",
   "metadata": {},
   "source": [
    "* $H_0$: 모든 집단의 중위수가 같다.\n",
    "* $H_1$: 한 집단이라도 중위수가 같지 않다."
   ]
  },
  {
   "cell_type": "code",
   "execution_count": 12,
   "metadata": {},
   "outputs": [
    {
     "name": "stdout",
     "output_type": "stream",
     "text": [
      "KruskalResult(statistic=np.float64(191.15968865261186), pvalue=np.float64(3.091726211560913e-42))\n"
     ]
    }
   ],
   "source": [
    "# Kruskal-Wallis H Test\n",
    "\n",
    "print(stats.kruskal(complete_episode_day_interval_core, complete_episode_day_interval_temp, complete_episode_day_interval_cold))"
   ]
  },
  {
   "cell_type": "markdown",
   "metadata": {},
   "source": [
    "* p-value가 3.091726211560913e-42로 매우 작으므로 귀무가설은 기각된다.\n",
    "* 즉 한 사용자 세그먼트라도 중위수가 같지 않다고 할 수 있다."
   ]
  },
  {
   "cell_type": "markdown",
   "metadata": {},
   "source": [
    "### **다중비교(사후분석)**"
   ]
  },
  {
   "cell_type": "markdown",
   "metadata": {},
   "source": [
    "* 우리는 모든 사용자 세그먼트의 중위수가 각각 유의미한 차이를 가지는지 알고 싶기 때문에 다중비교(사후분석)을 진행한다."
   ]
  },
  {
   "cell_type": "code",
   "execution_count": 13,
   "metadata": {},
   "outputs": [
    {
     "data": {
      "text/html": [
       "<div>\n",
       "<style scoped>\n",
       "    .dataframe tbody tr th:only-of-type {\n",
       "        vertical-align: middle;\n",
       "    }\n",
       "\n",
       "    .dataframe tbody tr th {\n",
       "        vertical-align: top;\n",
       "    }\n",
       "\n",
       "    .dataframe thead th {\n",
       "        text-align: right;\n",
       "    }\n",
       "</style>\n",
       "<table border=\"1\" class=\"dataframe\">\n",
       "  <thead>\n",
       "    <tr style=\"text-align: right;\">\n",
       "      <th></th>\n",
       "      <th>냉담</th>\n",
       "      <th>일시적</th>\n",
       "      <th>핵심</th>\n",
       "    </tr>\n",
       "  </thead>\n",
       "  <tbody>\n",
       "    <tr>\n",
       "      <th>냉담</th>\n",
       "      <td>1.000000e+00</td>\n",
       "      <td>5.369305e-26</td>\n",
       "      <td>7.683722e-05</td>\n",
       "    </tr>\n",
       "    <tr>\n",
       "      <th>일시적</th>\n",
       "      <td>5.369305e-26</td>\n",
       "      <td>1.000000e+00</td>\n",
       "      <td>8.814066e-30</td>\n",
       "    </tr>\n",
       "    <tr>\n",
       "      <th>핵심</th>\n",
       "      <td>7.683722e-05</td>\n",
       "      <td>8.814066e-30</td>\n",
       "      <td>1.000000e+00</td>\n",
       "    </tr>\n",
       "  </tbody>\n",
       "</table>\n",
       "</div>"
      ],
      "text/plain": [
       "               냉담           일시적            핵심\n",
       "냉담   1.000000e+00  5.369305e-26  7.683722e-05\n",
       "일시적  5.369305e-26  1.000000e+00  8.814066e-30\n",
       "핵심   7.683722e-05  8.814066e-30  1.000000e+00"
      ]
     },
     "execution_count": 13,
     "metadata": {},
     "output_type": "execute_result"
    }
   ],
   "source": [
    "sp.posthoc_conover(complete_episode_day_interval,\n",
    "                   val_col='avg_complete_episode_intervals',\n",
    "                   group_col='segmentation',\n",
    "                   p_adjust='holm')"
   ]
  },
  {
   "cell_type": "markdown",
   "metadata": {},
   "source": [
    "* 두 세그먼트에 대한 각 p-value가 모두 매우 작으므로, 모든 사용자 세그먼트의 중위수가 각각 유의미한 차이를 가진다고 말할 수 있다."
   ]
  },
  {
   "cell_type": "markdown",
   "metadata": {},
   "source": [
    "### **문제점 발견**"
   ]
  },
  {
   "cell_type": "markdown",
   "metadata": {},
   "source": [
    "* 정규성을 만족하지 못해 ANOVA 대신 Kruskal-Wallis H Test를 사용했다.\n",
    "* ANOVA는 집단 간 평균을 비교하지만, Kruskal-Wallis H Test는 집단 간 중위수를 비교한다.\n",
    "* 따라서 위 분석의 결과는 모든 사용자 세그먼트의 평균이 각각 유의미한 차이를 가지는 게 아닌, 중위수가 각각 유의미한 차이를 가진다는 것이다.\n",
    "* 그래서 사용자 세그먼트별 `complete.episode` day interval의 중위수를 계산해보았다."
   ]
  },
  {
   "cell_type": "code",
   "execution_count": 14,
   "metadata": {},
   "outputs": [
    {
     "name": "stdout",
     "output_type": "stream",
     "text": [
      "[사용자 세그먼트별 complete.episode day interval 중위수]\n",
      "\n",
      "핵심 사용자: 3.2일\n",
      "일시적 사용자: 4.78일\n",
      "냉담 사용자: 3.0일\n"
     ]
    }
   ],
   "source": [
    "# 사용자 세그먼트별 complete.episode day interval 중위수\n",
    "\n",
    "print(\"[사용자 세그먼트별 complete.episode day interval 중위수]\\n\")\n",
    "print(f\"핵심 사용자: {round(np.median(complete_episode_day_interval_core), 2)}일\")\n",
    "print(f\"일시적 사용자: {round(np.median(complete_episode_day_interval_temp), 2)}일\")\n",
    "print(f\"냉담 사용자: {round(np.median(complete_episode_day_interval_cold), 2)}일\")"
   ]
  },
  {
   "cell_type": "markdown",
   "metadata": {},
   "source": [
    "* 계산 결과, 중위수 크기가 평균처럼 냉담 > 일시적 > 핵심 순이 아닌 **일시적 > 핵심 > 냉담 순**으로, 냉담 사용자의 중위수가 가장 적게 나왔다."
   ]
  },
  {
   "cell_type": "markdown",
   "metadata": {},
   "source": [
    "* 우리가 ANOVA로 증명하고자 했던 가설은 다음과 같았다.\n",
    "> 가설: `complete.episode`(레슨 완료) 액션이 이루어진 날(day)들 사이의 간격이 핵심 사용자일수록 작고, 냉담 사용자일수록 클 것이다.\n",
    "* 따라서 위 분석에서 사용자 세그먼트 간 `complete.episode` day interval 중위수의 차이가 있다고 결과가 나왔어도, 위 가설을 증명할 수는 없는 결과이다."
   ]
  },
  {
   "cell_type": "markdown",
   "metadata": {},
   "source": [
    "* 사용자 세그먼트별 complete.episode day interval의 평균과 중위수 결과를 보고, 이상치가 원인일 것이라는 생각이 들었다.\n",
    "* 따라서 사용자 세그먼트별로 데이터의 최솟값과 최댓값을 살펴보았다."
   ]
  },
  {
   "cell_type": "code",
   "execution_count": 15,
   "metadata": {},
   "outputs": [
    {
     "name": "stdout",
     "output_type": "stream",
     "text": [
      "[사용자 세그먼트별 complete.episode day interval 최솟값과 최댓값]\n",
      "\n",
      "핵심 사용자 - 최솟값: 1.0일, 최댓값: 28.23일\n",
      "일시적 사용자 - 최솟값: 1.0일, 최댓값: 149.0일\n",
      "냉담 사용자 - 최솟값: 1.0일, 최댓값: 624.0일\n"
     ]
    }
   ],
   "source": [
    "# 사용자 세그먼트별 complete.episode day interval 최솟값과 최댓값\n",
    "\n",
    "print(\"[사용자 세그먼트별 complete.episode day interval 최솟값과 최댓값]\\n\")\n",
    "print(f\"핵심 사용자 - 최솟값: {round(np.min(complete_episode_day_interval_core), 2)}일, 최댓값: {round(np.max(complete_episode_day_interval_core), 2)}일\")\n",
    "print(f\"일시적 사용자 - 최솟값: {round(np.min(complete_episode_day_interval_temp), 2)}일, 최댓값: {round(np.max(complete_episode_day_interval_temp), 2)}일\")\n",
    "print(f\"냉담 사용자 - 최솟값: {round(np.min(complete_episode_day_interval_cold), 2)}일, 최댓값: {round(np.max(complete_episode_day_interval_cold), 2)}일\")"
   ]
  },
  {
   "cell_type": "markdown",
   "metadata": {},
   "source": [
    "* 최솟값은 1일로 동일했지만, 최댓값은 크게 차이가 났다.\n",
    "* 특히 냉담 사용자의 최댓값인 624일을 보면, 해당 유저는 레슨을 완료한 날 이후로 623일을 레슨을 완료하지 않다가 그 다음 날 레슨을 완료한 것이다.\n",
    "* 이러한 유저는 흔치 않을 것이고, 따라서 이러한 유저가 평균에 같이 계산된다면 정확한 결과가 나오지 않을 것이다.\n",
    "* 따라서 이상치인 유저들을 계산해 해당 유저들을 제거 후 다시 분석을 진행하였다."
   ]
  },
  {
   "cell_type": "markdown",
   "metadata": {},
   "source": [
    "## **두번째 시도**"
   ]
  },
  {
   "cell_type": "markdown",
   "metadata": {},
   "source": [
    "### **이상치 처리**"
   ]
  },
  {
   "cell_type": "code",
   "execution_count": 16,
   "metadata": {},
   "outputs": [
    {
     "name": "stdout",
     "output_type": "stream",
     "text": [
      "[사용자 세그먼트별 사용자 수]\n",
      "\n",
      "핵심 사용자: 1200명\n",
      "일시적 사용자: 5602명\n",
      "냉담 사용자: 3375명\n"
     ]
    }
   ],
   "source": [
    "# 이상치 제거 전 사용자 세그먼트별 사용자 수\n",
    "\n",
    "print(\"[사용자 세그먼트별 사용자 수]\\n\")\n",
    "print(f\"핵심 사용자: {complete_episode_day_interval_core.size}명\")\n",
    "print(f\"일시적 사용자: {complete_episode_day_interval_temp.size}명\")\n",
    "print(f\"냉담 사용자: {complete_episode_day_interval_cold.size}명\")"
   ]
  },
  {
   "cell_type": "code",
   "execution_count": 17,
   "metadata": {},
   "outputs": [],
   "source": [
    "# 사용자 세그먼트별 이상치 제거\n",
    "\n",
    "series_names = ['complete_episode_day_interval_core', 'complete_episode_day_interval_temp', 'complete_episode_day_interval_cold']\n",
    "\n",
    "def remove_outliers(series_names):\n",
    "    for name in series_names:\n",
    "        if name in globals():\n",
    "            series = globals()[name]\n",
    "            q1 = series.quantile(0.25)\n",
    "            q3 = series.quantile(0.75)\n",
    "            iqr = q3 - q1\n",
    "            filtered_series = series[(series >= q1 - (1.5*iqr)) & (series <= q3 + (1.5*iqr))]\n",
    "            globals()[name] = filtered_series\n",
    "        else:\n",
    "            print(f\"{name}는 존재하지 않는 Series 이름입니다.\")\n",
    "\n",
    "remove_outliers(series_names)"
   ]
  },
  {
   "cell_type": "code",
   "execution_count": 18,
   "metadata": {},
   "outputs": [
    {
     "name": "stdout",
     "output_type": "stream",
     "text": [
      "[사용자 세그먼트별 사용자 수]\n",
      "\n",
      "핵심 사용자: 1123명\n",
      "일시적 사용자: 5144명\n",
      "냉담 사용자: 2956명\n"
     ]
    }
   ],
   "source": [
    "# 이상치 제거 후 사용자 세그먼트별 사용자 수\n",
    "\n",
    "print(\"[사용자 세그먼트별 사용자 수]\\n\")\n",
    "print(f\"핵심 사용자: {complete_episode_day_interval_core.size}명\")\n",
    "print(f\"일시적 사용자: {complete_episode_day_interval_temp.size}명\")\n",
    "print(f\"냉담 사용자: {complete_episode_day_interval_cold.size}명\")"
   ]
  },
  {
   "cell_type": "markdown",
   "metadata": {},
   "source": [
    "* 총 1200명의 핵심 사용자 세그먼트에서 이상치인 유저 수는 77명(약 6%)이고,  \n",
    "총 5602명의 일시적 사용자 세그먼트에서 이상치인 유저 수는 458명(약 8%)이고,  \n",
    "총 3375명의 냉담 사용자 세그먼트에서 이상치인 유저 수는 419명(약 12%)이다."
   ]
  },
  {
   "cell_type": "markdown",
   "metadata": {},
   "source": [
    "* 이상치를 제거해도 냉담 사용자의 88%, 일시적 사용자의 92%, 핵심 사용자의 94%에 대한 평균 `complete.episode` day interval 차이를 설명할 수 있다.\n",
    "* 따라서 위와 같이 이상치를 제거한 후 분석을 진행한다."
   ]
  },
  {
   "cell_type": "code",
   "execution_count": 19,
   "metadata": {},
   "outputs": [
    {
     "name": "stdout",
     "output_type": "stream",
     "text": [
      "[사용자 세그먼트별 평균 complete.episode day interval]\n",
      "\n",
      "핵심 사용자: 3.52일\n",
      "일시적 사용자: 5.64일\n",
      "냉담 사용자: 6.52일\n"
     ]
    }
   ],
   "source": [
    "# 사용자 세그먼트별 평균 complete.episode day interval\n",
    "\n",
    "print(\"[사용자 세그먼트별 평균 complete.episode day interval]\\n\")\n",
    "print(f\"핵심 사용자: {round(np.mean(complete_episode_day_interval_core), 2)}일\")\n",
    "print(f\"일시적 사용자: {round(np.mean(complete_episode_day_interval_temp), 2)}일\")\n",
    "print(f\"냉담 사용자: {round(np.mean(complete_episode_day_interval_cold), 2)}일\")"
   ]
  },
  {
   "cell_type": "markdown",
   "metadata": {},
   "source": [
    "* 이상치를 제거하기 전보다 사용자 세그먼트 간 평균 간격이 많이 좁아졌다."
   ]
  },
  {
   "cell_type": "markdown",
   "metadata": {},
   "source": [
    "### **ANOVA 진행 전 데이터 사전 검정**"
   ]
  },
  {
   "cell_type": "markdown",
   "metadata": {},
   "source": [
    "* ANOVA를 진행하기 전 데이터에 대한 사전 검정이 필요하다.\n",
    "* 첫째로 각 세그먼트의 데이터가 정규성을 만족하고, 둘째로 세 세그먼트의 데이터가 등분산성을 만족해야 ANOVA를 진행할 수 있다."
   ]
  },
  {
   "cell_type": "markdown",
   "metadata": {},
   "source": [
    "#### **1. 정규성 검정**"
   ]
  },
  {
   "cell_type": "markdown",
   "metadata": {},
   "source": [
    "* 사용자 세그먼트별 사용자 수를 확인하면 핵심 사용자와 냉담 사용자는 5000명 미만이고, 일시적 사용자는 5000명 이상인 것을 확인할 수 있다.\n",
    "* 따라서 핵심 사용자와 냉담 사용자는 Shapiro-Wilk test로, 일시적 사용자는 Anderson-Darling test로 정규성 검정을 진행한다."
   ]
  },
  {
   "cell_type": "code",
   "execution_count": 20,
   "metadata": {},
   "outputs": [
    {
     "name": "stdout",
     "output_type": "stream",
     "text": [
      "ShapiroResult(statistic=np.float64(0.9203012724991974), pvalue=np.float64(6.921560402113618e-24))\n"
     ]
    }
   ],
   "source": [
    "# 핵심 사용자 세그먼트 정규성 검정\n",
    "\n",
    "print(stats.shapiro(complete_episode_day_interval_core))"
   ]
  },
  {
   "cell_type": "markdown",
   "metadata": {},
   "source": [
    "* p-value가 6.921560402113618e-24로 매우 작으므로, 핵심 사용자 세그먼트의 데이터는 정규성을 만족하지 못한다고 할 수 있다."
   ]
  },
  {
   "cell_type": "code",
   "execution_count": 21,
   "metadata": {},
   "outputs": [
    {
     "name": "stdout",
     "output_type": "stream",
     "text": [
      "AndersonResult(statistic=np.float64(207.61948404548275), critical_values=array([0.576, 0.655, 0.786, 0.917, 1.091]), significance_level=array([15. , 10. ,  5. ,  2.5,  1. ]), fit_result=  params: FitParams(loc=np.float64(5.643899085309008), scale=np.float64(4.25357351741433))\n",
      " success: True\n",
      " message: '`anderson` successfully fit the distribution to the data.')\n"
     ]
    }
   ],
   "source": [
    "# 일시적 사용자 세그먼트 정규성 검정\n",
    "\n",
    "print(stats.anderson(complete_episode_day_interval_temp, dist='norm'))"
   ]
  },
  {
   "cell_type": "markdown",
   "metadata": {},
   "source": [
    "* 검정통계량 값은 207.61948404548275로, 유의수준이 1%일 때의 임계값인 1.091보다도 매우 크다.\n",
    "* 따라서 일시적 사용자 세그먼트의 데이터가 정규분포에서 추출되었다는 귀무가설은 기각된다.\n",
    "* 즉 일시적 사용자 세그먼트의 데이터는 정규성을 만족하지 못한다고 할 수 있다."
   ]
  },
  {
   "cell_type": "code",
   "execution_count": 22,
   "metadata": {},
   "outputs": [
    {
     "name": "stdout",
     "output_type": "stream",
     "text": [
      "ShapiroResult(statistic=np.float64(0.6869691580442279), pvalue=np.float64(3.7926396530203758e-59))\n"
     ]
    }
   ],
   "source": [
    "# 냉담 사용자 세그먼트 정규성 검정\n",
    "\n",
    "print(stats.shapiro(complete_episode_day_interval_cold))"
   ]
  },
  {
   "cell_type": "markdown",
   "metadata": {},
   "source": [
    "* p-value가 3.7926396530203758e-59로 매우 작으므로, 냉담 사용자 세그먼트의 데이터는 정규성을 만족하지 못한다고 할 수 있다."
   ]
  },
  {
   "cell_type": "markdown",
   "metadata": {},
   "source": [
    "* test 결과, 사용자 세그먼트별로 각 사용자의 평균 `complete.episode` day interval들은 **정규성을 만족하지 못한다**.\n",
    "* 하지만 위에서 사용한 test는 귀무가설이 채택되기 상당히 까다로운 test이다.\n",
    "* 이로 인해 **실무에서는 왜도의 절대값이 2보다 작고, 첨도가 7보다 작으면 정규성을 만족한다**고 본다. (표본 수가 300 이상일 경우)  \n",
    "참고: [Statistical notes for clinical researchers: assessing normal distribution (2) using skewness and kurtosis](https://pmc.ncbi.nlm.nih.gov/articles/PMC3591587/)"
   ]
  },
  {
   "cell_type": "markdown",
   "metadata": {},
   "source": [
    "##### **Practical Approach: 왜도와 첨도 이용**"
   ]
  },
  {
   "cell_type": "code",
   "execution_count": 23,
   "metadata": {},
   "outputs": [
    {
     "name": "stdout",
     "output_type": "stream",
     "text": [
      "[사용자 세그먼트별 데이터의 왜도의 절대값]\n",
      "\n",
      "핵심 사용자: 0.95\n",
      "일시적 사용자: 1.21\n",
      "냉담 사용자: 1.87\n"
     ]
    }
   ],
   "source": [
    "# 사용자 세그먼트별 데이터의 왜도의 절대값 계산\n",
    "\n",
    "print(\"[사용자 세그먼트별 데이터의 왜도의 절대값]\\n\")\n",
    "print(f\"핵심 사용자: {round(abs(stats.skew(complete_episode_day_interval_core, bias=False)), 2)}\")\n",
    "print(f\"일시적 사용자: {round(abs(stats.skew(complete_episode_day_interval_temp, bias=False)), 2)}\")\n",
    "print(f\"냉담 사용자: {round(abs(stats.skew(complete_episode_day_interval_cold, bias=False)), 2)}\")"
   ]
  },
  {
   "cell_type": "markdown",
   "metadata": {},
   "source": [
    "* 왜도의 절대값이 모두 2보다 작다."
   ]
  },
  {
   "cell_type": "code",
   "execution_count": 24,
   "metadata": {},
   "outputs": [
    {
     "name": "stdout",
     "output_type": "stream",
     "text": [
      "[사용자 세그먼트별 데이터의 첨도]\n",
      "\n",
      "핵심 사용자: 0.28\n",
      "일시적 사용자: 0.8\n",
      "냉담 사용자: 2.55\n"
     ]
    }
   ],
   "source": [
    "# (왜도의 절대값이 모두 2보다 크면 무용지물이지만) 사용자 세그먼트별 데이터의 첨도 계산\n",
    "\n",
    "print(\"[사용자 세그먼트별 데이터의 첨도]\\n\")\n",
    "print(f\"핵심 사용자: {round(stats.kurtosis(complete_episode_day_interval_core, fisher=True), 2)}\")\n",
    "print(f\"일시적 사용자: {round(stats.kurtosis(complete_episode_day_interval_temp, fisher=True), 2)}\")\n",
    "print(f\"냉담 사용자: {round(stats.kurtosis(complete_episode_day_interval_cold, fisher=True), 2)}\")"
   ]
  },
  {
   "cell_type": "markdown",
   "metadata": {},
   "source": [
    "* 첨도가 모두 7보다 작다."
   ]
  },
  {
   "cell_type": "markdown",
   "metadata": {},
   "source": [
    "* 왜도와 첨도를 계산한 결과, 사용자 세그먼트별 데이터들은 정규성을 만족한다고 볼 수 있다.\n",
    "* 따라서 다음으로 등분산성을 만족하는지 알아본다."
   ]
  },
  {
   "cell_type": "markdown",
   "metadata": {},
   "source": [
    "#### **2. 등분산성 검정**"
   ]
  },
  {
   "cell_type": "code",
   "execution_count": 25,
   "metadata": {},
   "outputs": [
    {
     "name": "stdout",
     "output_type": "stream",
     "text": [
      "LeveneResult(statistic=np.float64(263.87078624985634), pvalue=np.float64(3.6481648190671024e-112))\n"
     ]
    }
   ],
   "source": [
    "# Levene 검정\n",
    "\n",
    "print(stats.levene(complete_episode_day_interval_core, complete_episode_day_interval_temp, complete_episode_day_interval_cold))"
   ]
  },
  {
   "cell_type": "markdown",
   "metadata": {},
   "source": [
    "* p-value가 3.6481648190671024e-112로 매우 작으므로, 세 세그먼트의 데이터는 등분산성을 만족하지 못한다고 할 수 있다."
   ]
  },
  {
   "cell_type": "code",
   "execution_count": 26,
   "metadata": {},
   "outputs": [
    {
     "name": "stdout",
     "output_type": "stream",
     "text": [
      "BartlettResult(statistic=np.float64(3540.336282854698), pvalue=np.float64(0.0))\n"
     ]
    }
   ],
   "source": [
    "# Bartlett 검정\n",
    "\n",
    "print(stats.bartlett(complete_episode_day_interval_core, complete_episode_day_interval_temp, complete_episode_day_interval_cold))"
   ]
  },
  {
   "cell_type": "markdown",
   "metadata": {},
   "source": [
    "* p-value가 0이므로, 세 세그먼트의 데이터는 등분산성을 만족하지 못한다고 할 수 있다."
   ]
  },
  {
   "cell_type": "markdown",
   "metadata": {},
   "source": [
    "* 따라서 이분산이 가정된 ANOVA를 진행한다."
   ]
  },
  {
   "cell_type": "markdown",
   "metadata": {},
   "source": [
    "### **이분산이 가정된 One-way ANOVA**"
   ]
  },
  {
   "cell_type": "markdown",
   "metadata": {},
   "source": [
    "* $H_0$: 모든 집단의 평균이 같다.\n",
    "* $H_1$: 한 집단이라도 평균이 같지 않다."
   ]
  },
  {
   "cell_type": "code",
   "execution_count": 27,
   "metadata": {},
   "outputs": [
    {
     "name": "stdout",
     "output_type": "stream",
     "text": [
      "         Source  ddof1        ddof2           F          p-unc       np2\n",
      "0  segmentation      2  5789.521626  445.773774  8.636939e-181  0.038527\n"
     ]
    }
   ],
   "source": [
    "# Welch's ANOVA\n",
    "\n",
    "print(welch_anova(data=complete_episode_day_interval, dv='avg_complete_episode_intervals', between='segmentation'))"
   ]
  },
  {
   "cell_type": "markdown",
   "metadata": {},
   "source": [
    "* 여기서 p-unc 값이 p-value이다.\n",
    "* p-value가 8.636939e-181로 매우 작으므로 귀무가설은 기각된다.\n",
    "* 즉 한 사용자 세그먼트라도 평균이 같지 않다고 할 수 있다."
   ]
  },
  {
   "cell_type": "markdown",
   "metadata": {},
   "source": [
    "### **다중비교(사후분석)**"
   ]
  },
  {
   "cell_type": "markdown",
   "metadata": {},
   "source": [
    "* 우리는 모든 사용자 세그먼트의 평균이 각각 유의미한 차이를 가지는지 알고 싶기 때문에 다중비교(사후분석)을 진행한다."
   ]
  },
  {
   "cell_type": "code",
   "execution_count": 28,
   "metadata": {},
   "outputs": [
    {
     "name": "stdout",
     "output_type": "stream",
     "text": [
      " Multiple Comparison of Means - Tukey HSD, FWER=0.05 \n",
      "=====================================================\n",
      "group1 group2 meandiff p-adj  lower    upper   reject\n",
      "-----------------------------------------------------\n",
      "    냉담    일시적  -9.5335   0.0 -10.7928  -8.2741   True\n",
      "    냉담     핵심 -13.2489   0.0 -15.1913 -11.3065   True\n",
      "   일시적     핵심  -3.7155   0.0  -5.5538  -1.8771   True\n",
      "-----------------------------------------------------\n"
     ]
    }
   ],
   "source": [
    "# Tukey 사후검정\n",
    "\n",
    "tukey_result = pairwise_tukeyhsd(endog=complete_episode_day_interval['avg_complete_episode_intervals'], groups=complete_episode_day_interval['segmentation'])\n",
    "print(tukey_result)"
   ]
  },
  {
   "cell_type": "markdown",
   "metadata": {},
   "source": [
    "* 두 세그먼트에 대한 각 reject값이 모두 True이므로, 모든 사용자 세그먼트의 평균이 각각 유의미한 차이를 가진다고 말할 수 있다."
   ]
  },
  {
   "cell_type": "markdown",
   "metadata": {},
   "source": [
    "## **결론**"
   ]
  },
  {
   "cell_type": "code",
   "execution_count": 29,
   "metadata": {},
   "outputs": [
    {
     "name": "stdout",
     "output_type": "stream",
     "text": [
      "[사용자 세그먼트별 평균 complete.episode day interval]\n",
      "\n",
      "핵심 사용자: 3.52일\n",
      "일시적 사용자: 5.64일\n",
      "냉담 사용자: 6.52일\n"
     ]
    }
   ],
   "source": [
    "# 사용자 세그먼트별 평균 complete.episode day interval\n",
    "\n",
    "print(\"[사용자 세그먼트별 평균 complete.episode day interval]\\n\")\n",
    "print(f\"핵심 사용자: {round(np.mean(complete_episode_day_interval_core), 2)}일\")\n",
    "print(f\"일시적 사용자: {round(np.mean(complete_episode_day_interval_temp), 2)}일\")\n",
    "print(f\"냉담 사용자: {round(np.mean(complete_episode_day_interval_cold), 2)}일\")"
   ]
  },
  {
   "cell_type": "markdown",
   "metadata": {},
   "source": [
    "* 사용자 세그먼트별 평균 `complete.episode` day interval은 위와 같다.\n",
    "* ANOVA를 한 결과, 모든 사용자 세그먼트의 평균이 각각 유의미한 차이를 가진다고 말할 수 있다.\n",
    "* 이를 통해 우리가 증명하려던 아래의 가설도 증명이 되었다.\n",
    "> 가설: `complete.episode`(레슨 완료) 액션이 이루어진 날(day)들 사이의 간격이 핵심 사용자일수록 작고, 냉담 사용자일수록 클 것이다."
   ]
  },
  {
   "cell_type": "markdown",
   "metadata": {},
   "source": [
    "### **향후 진행 방향**"
   ]
  },
  {
   "cell_type": "code",
   "execution_count": 30,
   "metadata": {},
   "outputs": [
    {
     "name": "stdout",
     "output_type": "stream",
     "text": [
      "[사용자 세그먼트별 평균 complete.episode day interval]\n",
      "\n",
      "핵심 사용자: 3.52일\n",
      "일시적 사용자: 5.64일\n",
      "냉담 사용자: 6.52일\n"
     ]
    }
   ],
   "source": [
    "# 사용자 세그먼트별 평균 complete.episode day interval\n",
    "\n",
    "print(\"[사용자 세그먼트별 평균 complete.episode day interval]\\n\")\n",
    "print(f\"핵심 사용자: {round(np.mean(complete_episode_day_interval_core), 2)}일\")\n",
    "print(f\"일시적 사용자: {round(np.mean(complete_episode_day_interval_temp), 2)}일\")\n",
    "print(f\"냉담 사용자: {round(np.mean(complete_episode_day_interval_cold), 2)}일\")"
   ]
  },
  {
   "cell_type": "markdown",
   "metadata": {},
   "source": [
    "* 사용자 세그먼트별 평균 `complete.episode` day interval 값을 통해 마케팅 전략을 수립한다.\n",
    "* 예를 들어 Reminder는 3일 이상 레슨을 완료하지 않을 시 보내고,  \n",
    "게임 Item처럼 학습에 유용하게 사용할 수 있는 Item은 일주일(7일) 이상 레슨을 완료하지 않을 시 지급하는 전략을 생각해볼 수 있다."
   ]
  }
 ],
 "metadata": {
  "kernelspec": {
   "display_name": "Python 3",
   "language": "python",
   "name": "python3"
  },
  "language_info": {
   "codemirror_mode": {
    "name": "ipython",
    "version": 3
   },
   "file_extension": ".py",
   "mimetype": "text/x-python",
   "name": "python",
   "nbconvert_exporter": "python",
   "pygments_lexer": "ipython3",
   "version": "3.12.4"
  }
 },
 "nbformat": 4,
 "nbformat_minor": 2
}
